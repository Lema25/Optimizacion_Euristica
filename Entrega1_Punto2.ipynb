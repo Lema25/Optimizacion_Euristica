{
 "cells": [
  {
   "cell_type": "markdown",
   "metadata": {},
   "source": [
    "## Integrantes\n",
    "\n",
    "- Jakelin Daiana Correa Palacio\n",
    "- Andrés Felipe Lema García\n",
    "- Luis Felipe Moreno Chamorro"
   ]
  },
  {
   "cell_type": "markdown",
   "metadata": {},
   "source": [
    "## Librerías necesarias"
   ]
  },
  {
   "cell_type": "code",
   "execution_count": 1,
   "metadata": {},
   "outputs": [],
   "source": [
    "# Notebook\n",
    "import numpy as np\n",
    "import matplotlib\n",
    "import matplotlib.pyplot as plt\n",
    "from mpl_toolkits.mplot3d import Axes3D\n",
    "\n",
    "# .py\n",
    "from scipy.optimize import minimize\n",
    "from scipy.optimize import differential_evolution, minimize, dual_annealing\n",
    "from scipy.optimize import basinhopping, shgo\n",
    "from matplotlib.animation import FuncAnimation\n",
    "from matplotlib.colors import LogNorm\n",
    "import matplotlib.animation as animation\n",
    "from IPython.display import HTML, IFrame\n",
    "\n",
    "import json\n",
    "from itertools import permutations\n",
    "import folium\n",
    "from folium import plugins\n"
   ]
  },
  {
   "cell_type": "markdown",
   "metadata": {},
   "source": [
    "## Parte 2: optimización combinatoria\n",
    "\n",
    "Un vendedor debe hacer un recorrido por las siguientes ciudades de Colombia en su carro (no necesariamente en este orden):\n",
    "\n",
    "Palmira\n",
    "Pasto\n",
    "Tuluá\n",
    "Bogota\n",
    "Pereira\n",
    "Armenia\n",
    "Manizales\n",
    "Valledupar\n",
    "Montería\n",
    "Soledad\n",
    "Cartagena\n",
    "Barranquilla\n",
    "Medellín\n",
    "Bucaramanga\n",
    "Cúcuta\n",
    "Utilice colonias de hormigas y algoritmos genéticos para encontrar el orden óptimo. El costo de desplazamiento entre ciudades es la suma del valor de la hora del vendedor (es un parámetro que debe estudiarse), el costo de los peajes y el costo del combustible. Cada equipo debe definir en qué carro hace el recorrido el vendedor y de allí extraer el costo del combustible.\n",
    "\n",
    "Adicionalmente represente con un gif animado o un video cómo se comporta la mejor solución usando un gráfico del recorrido en el mapa de Colombia"
   ]
  },
  {
   "cell_type": "code",
   "execution_count": 2,
   "metadata": {},
   "outputs": [],
   "source": [
    "# Se leen los datos del json\n",
    "with open(\"data.json\",'r', encoding='utf-8') as file:\n",
    "    datos = json.load(file)\n",
    "\n",
    "# Lista de ciudades para indexar matrices\n",
    "ciudades = datos[\"ciudades\"]\n",
    "\n",
    "# Matrices\n",
    "matriz_distancia = datos[\"distancia\"]\n",
    "matriz_precio = datos[\"precio\"]\n",
    "matriz_tiempo = datos[\"tiempo\"]\n",
    "\n",
    "# Ubicaciones\n",
    "ubicaciones = datos[\"ubicaciones\"]"
   ]
  },
  {
   "cell_type": "code",
   "execution_count": 3,
   "metadata": {},
   "outputs": [],
   "source": [
    "# Se leen los datos del json\n",
    "with open(\"data.json\",'r', encoding='utf-8') as file:\n",
    "    datos = json.load(file)\n",
    "\n",
    "# Lista de ciudades para indexar matrices\n",
    "ciudades = datos[\"ciudades\"]\n",
    "\n",
    "# Matrices\n",
    "matriz_distancia = datos[\"distancia\"]\n",
    "matriz_precio = datos[\"precio\"]\n",
    "matriz_tiempo = datos[\"tiempo\"]\n",
    "\n",
    "# Ubicaciones\n",
    "ubicaciones = datos[\"ubicaciones\"]"
   ]
  },
  {
   "cell_type": "code",
   "execution_count": 4,
   "metadata": {},
   "outputs": [],
   "source": [
    "# Normalizacion de datos para el calculo de aptitud\n",
    "\n",
    "max_dist = max(max(fila) for fila in matriz_distancia)\n",
    "max_prec = max(max(fila) for fila in matriz_precio)\n",
    "max_tiem = max(max(fila) for fila in matriz_tiempo)"
   ]
  },
  {
   "cell_type": "code",
   "execution_count": 5,
   "metadata": {},
   "outputs": [],
   "source": [
    "# Devuelve los index de las ciudades\n",
    "def indexCiudad(ciudad1, ciudad2):\n",
    "    return ciudades.index(ciudad1), ciudades.index(ciudad2)\n",
    "\n",
    "# Devuelve el valor de la matriz entre dos ciudades\n",
    "def distancia(ciudad1, ciudad2):\n",
    "    indice_ciudad1, indice_ciudad2= indexCiudad(ciudad1, ciudad2)\n",
    "    return matriz_distancia[indice_ciudad1][indice_ciudad2]\n",
    "\n",
    "def precio(ciudad1, ciudad2):\n",
    "    indice_ciudad1, indice_ciudad2= indexCiudad(ciudad1, ciudad2)\n",
    "    return matriz_precio[indice_ciudad1][indice_ciudad2]\n",
    "\n",
    "def tiempo(ciudad1, ciudad2):\n",
    "    indice_ciudad1, indice_ciudad2= indexCiudad(ciudad1, ciudad2)\n",
    "    return matriz_tiempo[indice_ciudad1][indice_ciudad2]\n",
    "\n",
    "# Genera una población inicial aleatoria de rutas\n",
    "def generar_poblacion(num_individuos):\n",
    "    poblacion = []\n",
    "    for _ in range(num_individuos):\n",
    "        ruta = np.random.permutation(ciudades)\n",
    "        poblacion.append(list(ruta))\n",
    "    return poblacion\n",
    "\n",
    "# Evalúa la aptitud de una ruta (distancia, precio y tiempo)\n",
    "def evaluar_aptitud(ruta):\n",
    "    distancia_total = 0\n",
    "    precio_total = 0\n",
    "    tiempo_total = 0\n",
    "\n",
    "    aptitud = 0\n",
    "    for i in range(len(ruta)):\n",
    "        ciudad_actual = ruta[i]\n",
    "        ciudad_siguiente = ruta[(i + 1) % len(ruta)]\n",
    "        distancia_total += distancia(ciudad_actual, ciudad_siguiente)\n",
    "        precio_total += precio(ciudad_actual, ciudad_siguiente)\n",
    "        tiempo_total += tiempo(ciudad_actual, ciudad_siguiente)\n",
    "\n",
    "        costo = distancia(ciudad_actual, ciudad_siguiente)/ max_dist + precio(ciudad_actual, ciudad_siguiente)/ max_prec + tiempo(ciudad_actual, ciudad_siguiente)/ max_tiem\n",
    "        aptitud += costo\n",
    "        \n",
    "    return aptitud, distancia_total, precio_total, tiempo_total\n",
    "\n",
    "# Cruza dos rutas para producir descendencia\n",
    "def cruzamiento(padre1, padre2):\n",
    "    punto_corte = np.random.randint(1, len(padre1) - 1)\n",
    "    hijo1 = padre1[:punto_corte] + [ciudad for ciudad in padre2 if ciudad not in padre1[:punto_corte]]\n",
    "    hijo2 = padre2[:punto_corte] + [ciudad for ciudad in padre1 if ciudad not in padre2[:punto_corte]]\n",
    "    return hijo1, hijo2\n",
    "\n",
    "# Aplica mutaciones a la descendencia\n",
    "def mutacion(ruta, prob_mutacion):\n",
    "    if np.random.rand() < prob_mutacion:\n",
    "        idx1, idx2 = np.random.choice(len(ruta), size=2, replace=False)\n",
    "        ruta[idx1], ruta[idx2] = ruta[idx2], ruta[idx1]\n",
    "    return ruta\n",
    "\n",
    "# Algoritmo genético para resolver el problema\n",
    "def algoritmo_genetico(num_generaciones, tam_poblacion, prob_mutacion):\n",
    "    poblacion = generar_poblacion(tam_poblacion)\n",
    "    mejor_aptitud = float('inf')\n",
    "    mejor_ruta = None\n",
    "    for generacion in range(num_generaciones):\n",
    "        descendientes = []\n",
    "        for _ in range(tam_poblacion // 2):\n",
    "            padres = np.random.choice(len(poblacion), size=2, replace=False)\n",
    "            hijo1, hijo2 = cruzamiento(poblacion[padres[0]], poblacion[padres[1]])\n",
    "            hijo1 = mutacion(hijo1, prob_mutacion)\n",
    "            hijo2 = mutacion(hijo2, prob_mutacion)\n",
    "            descendientes.extend([hijo1, hijo2])\n",
    "        poblacion = descendientes\n",
    "        for individuo in poblacion:\n",
    "            aptitud, _, _, _ = evaluar_aptitud(individuo)\n",
    "            if aptitud < mejor_aptitud:\n",
    "                mejor_aptitud = aptitud\n",
    "                mejor_ruta = individuo\n",
    "    return mejor_ruta"
   ]
  },
  {
   "cell_type": "code",
   "execution_count": 6,
   "metadata": {},
   "outputs": [],
   "source": [
    "def mostrarAnimacionMapa(ruta):\n",
    "    # Se obtiene la ubicacion de cada ciudad\n",
    "    latitudes, longitudes = [], []\n",
    "    \n",
    "    for ciudad in ruta:\n",
    "        latitudes.append(ubicaciones[ciudad][0])\n",
    "        longitudes.append(ubicaciones[ciudad][1])\n",
    "    \n",
    "    # Se crea el mapa de folium\n",
    "    mapa = folium.Map(location=[sum(latitudes)/len(latitudes), sum(longitudes)/len(longitudes)], zoom_start=6)\n",
    "    \n",
    "    # Se crea la ruta como un PolyLine al mapa\n",
    "    ruta = folium.PolyLine(locations=list(zip(latitudes, longitudes)), color='blue', weight=3)\n",
    "    mapa.add_child(ruta)\n",
    "    \n",
    "    # Crear un plugin de animación para la ruta\n",
    "    animacion_ruta = plugins.AntPath(locations=list(zip(latitudes, longitudes)), dash_array=[10, 20], delay=1000)\n",
    "    mapa.add_child(animacion_ruta)\n",
    "    \n",
    "    # Guardar el mapa como un archivo HTML\n",
    "    mapa.save('animacion_ruta.html')"
   ]
  },
  {
   "cell_type": "code",
   "execution_count": 7,
   "metadata": {},
   "outputs": [
    {
     "name": "stdout",
     "output_type": "stream",
     "text": [
      "Ruta optima encontrada: ['Tuluá', 'Manizales', 'Bucaramanga', 'Cúcuta', 'Montería', 'Pasto', 'Pereira', 'Armenia', 'Medellín', 'Valledupar', 'Cartagena', 'Soledad', 'Barranquilla', 'Bogotá', 'Palmira']\n",
      "Aptitud: 11.80\n",
      "Distancia: 4248.700km\n",
      "Precio: $2660749\n",
      "Tiempo total: 7328 minutos\n"
     ]
    },
    {
     "data": {
      "text/html": [
       "\n",
       "        <iframe\n",
       "            width=\"800\"\n",
       "            height=\"600\"\n",
       "            src=\"animacion_ruta.html\"\n",
       "            frameborder=\"0\"\n",
       "            allowfullscreen\n",
       "            \n",
       "        ></iframe>\n",
       "        "
      ],
      "text/plain": [
       "<IPython.lib.display.IFrame at 0x2122aded5b0>"
      ]
     },
     "execution_count": 7,
     "metadata": {},
     "output_type": "execute_result"
    }
   ],
   "source": [
    "# Parámetros del algoritmo genético\n",
    "num_generaciones = 100\n",
    "tam_poblacion = 100\n",
    "prob_mutacion = 0.02\n",
    "\n",
    "# Ejecucion del algoritmo genético\n",
    "ruta_optima = algoritmo_genetico(num_generaciones, tam_poblacion, prob_mutacion=0.02)\n",
    "print(\"Ruta optima encontrada:\", ruta_optima)\n",
    "print(\"Aptitud: {:.2f}\\nDistancia: {:.3f}km\\nPrecio: ${}\\nTiempo total: {} minutos\".format(*evaluar_aptitud(ruta_optima)))\n",
    "\n",
    "# se genera un archivo .html para mostrar la animacion\n",
    "mostrarAnimacionMapa(ruta_optima)\n",
    "# este archivo es llamado desde un iFrame\n",
    "IFrame(src='animacion_ruta.html', width=800, height=600)"
   ]
  },
  {
   "cell_type": "code",
   "execution_count": 8,
   "metadata": {},
   "outputs": [
    {
     "name": "stdout",
     "output_type": "stream",
     "text": [
      "Ruta optima encontrada: ['Bucaramanga', 'Cúcuta', 'Valledupar', 'Tuluá', 'Pereira', 'Armenia', 'Palmira', 'Pasto', 'Montería', 'Soledad', 'Cartagena', 'Barranquilla', 'Bogotá', 'Manizales', 'Medellín']\n",
      "Aptitud: 13.32\n",
      "Distancia: 5894.4 km\n",
      "Precio: $ 2968957\n",
      "Tiempo total: 6966 minutos\n"
     ]
    },
    {
     "data": {
      "text/html": [
       "\n",
       "        <iframe\n",
       "            width=\"800\"\n",
       "            height=\"600\"\n",
       "            src=\"animacion_ruta.html\"\n",
       "            frameborder=\"0\"\n",
       "            allowfullscreen\n",
       "            \n",
       "        ></iframe>\n",
       "        "
      ],
      "text/plain": [
       "<IPython.lib.display.IFrame at 0x2122b9ba600>"
      ]
     },
     "execution_count": 8,
     "metadata": {},
     "output_type": "execute_result"
    }
   ],
   "source": [
    "# Se ejecuta 50 veces el algoritmo hasta encontrar la mejor\n",
    "all_routes = []\n",
    "aptitud_min = 0\n",
    "best_ruta = {}\n",
    "\n",
    "for i in range(50):\n",
    "    ejecucion = {\"ejecucion\" : i}\n",
    "    \n",
    "    # Ejecucion del algoritmo genético\n",
    "    ruta_optima = algoritmo_genetico(num_generaciones, tam_poblacion, prob_mutacion=0.02)\n",
    "    ejecucion[\"ruta\"] = ruta_optima\n",
    "    \n",
    "    ejecucion[\"aptitud\"], ejecucion[\"distancia\"], ejecucion[\"precio\"], ejecucion[\"tiempo\"] = evaluar_aptitud(ruta_optima)\n",
    "    \n",
    "    # si es la primera ejecucion o la aptitud es menor a la que se habia encontrado...\n",
    "    if i == 0 or best_ruta[\"aptitud\"] > ejecucion[\"aptitud\"]:\n",
    "        best_ruta = ejecucion\n",
    "        \n",
    "    all_routes.append(ejecucion)\n",
    "\n",
    "# Se muestran por consola los atributos de la mejor ruta\n",
    "print(\"Ruta optima encontrada:\", best_ruta[\"ruta\"])\n",
    "print(\"Aptitud:\", round(ejecucion[\"aptitud\"], 2))\n",
    "print(\"Distancia:\", round(ejecucion[\"distancia\"], 3), \"km\")\n",
    "print(\"Precio: $\", ejecucion[\"precio\"])\n",
    "print(\"Tiempo total:\", ejecucion[\"tiempo\"], \"minutos\")\n",
    "\n",
    "# Visualizar la mejor ruta\n",
    "mostrarAnimacionMapa(best_ruta[\"ruta\"])\n",
    "IFrame(src='animacion_ruta.html', width=800, height=600)"
   ]
  }
 ],
 "metadata": {
  "kernelspec": {
   "display_name": "Python 3",
   "language": "python",
   "name": "python3"
  },
  "language_info": {
   "codemirror_mode": {
    "name": "ipython",
    "version": 3
   },
   "file_extension": ".py",
   "mimetype": "text/x-python",
   "name": "python",
   "nbconvert_exporter": "python",
   "pygments_lexer": "ipython3",
   "version": "3.12.2"
  }
 },
 "nbformat": 4,
 "nbformat_minor": 2
}
