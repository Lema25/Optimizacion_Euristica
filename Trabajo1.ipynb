{
 "cells": [
  {
   "cell_type": "markdown",
   "metadata": {},
   "source": [
    "# Optimización Heuristica\n",
    "\n",
    "## Integrantes\n",
    "- Diego Fernando Chávez Henao\n",
    "- Jakelin Daiana Correa Palacio\n",
    "- Andrés Felipe Lema García\n",
    "- Luis Felipe Moreno Chamorro"
   ]
  },
  {
   "cell_type": "code",
   "execution_count": null,
   "metadata": {},
   "outputs": [
    {
     "name": "stdout",
     "output_type": "stream",
     "text": [
      "Requirement already satisfied: matplotlib in c:\\users\\jakel\\envs\\rnya\\lib\\site-packages (3.7.5)\n",
      "Requirement already satisfied: numpy in c:\\users\\jakel\\envs\\rnya\\lib\\site-packages (1.24.4)\n",
      "Requirement already satisfied: fonttools>=4.22.0 in c:\\users\\jakel\\envs\\rnya\\lib\\site-packages (from matplotlib) (4.49.0)\n",
      "Requirement already satisfied: pyparsing>=2.3.1 in c:\\users\\jakel\\envs\\rnya\\lib\\site-packages (from matplotlib) (3.1.1)\n",
      "Requirement already satisfied: contourpy>=1.0.1 in c:\\users\\jakel\\envs\\rnya\\lib\\site-packages (from matplotlib) (1.1.1)\n",
      "Requirement already satisfied: importlib-resources>=3.2.0; python_version < \"3.10\" in c:\\users\\jakel\\envs\\rnya\\lib\\site-packages (from matplotlib) (6.1.2)\n",
      "Requirement already satisfied: pillow>=6.2.0 in c:\\users\\jakel\\envs\\rnya\\lib\\site-packages (from matplotlib) (10.2.0)\n",
      "Requirement already satisfied: cycler>=0.10 in c:\\users\\jakel\\envs\\rnya\\lib\\site-packages (from matplotlib) (0.12.1)\n",
      "Requirement already satisfied: kiwisolver>=1.0.1 in c:\\users\\jakel\\envs\\rnya\\lib\\site-packages (from matplotlib) (1.4.5)\n",
      "Requirement already satisfied: python-dateutil>=2.7 in c:\\users\\jakel\\envs\\rnya\\lib\\site-packages (from matplotlib) (2.9.0.post0)\n",
      "Requirement already satisfied: packaging>=20.0 in c:\\users\\jakel\\envs\\rnya\\lib\\site-packages (from matplotlib) (23.2)\n",
      "Requirement already satisfied: zipp>=3.1.0; python_version < \"3.10\" in c:\\users\\jakel\\envs\\rnya\\lib\\site-packages (from importlib-resources>=3.2.0; python_version < \"3.10\"->matplotlib) (3.17.0)\n",
      "Requirement already satisfied: six>=1.5 in c:\\users\\jakel\\envs\\rnya\\lib\\site-packages (from python-dateutil>=2.7->matplotlib) (1.16.0)\n",
      "Note: you may need to restart the kernel to use updated packages.\n"
     ]
    },
    {
     "name": "stderr",
     "output_type": "stream",
     "text": [
      "WARNING: You are using pip version 20.2.1; however, version 24.0 is available.\n",
      "You should consider upgrading via the 'c:\\Users\\jakel\\envs\\RNYA\\Scripts\\python.exe -m pip install --upgrade pip' command.\n"
     ]
    }
   ],
   "source": [
    "pip install matplotlib numpy"
   ]
  },
  {
   "cell_type": "markdown",
   "metadata": {
    "id": "VBZhfnv_p1a7"
   },
   "source": [
    "## Parte 1: optimización numérica"
   ]
  },
  {
   "cell_type": "markdown",
   "metadata": {
    "id": "NGf0mMp9pyyb"
   },
   "source": [
    "1. Escoja dos funciones de prueba\n",
    "2. Optimice las funciones en dos y tres dimensiones usando un método de descenso por gradiente con condición inicial aleatoria\n",
    "3. Optimice las funciones en dos y tres dimensiones usando: algoritmos evolutivos, optimización de partículas y evolución diferencial\n",
    "4. Represente con un gif animado o un video el proceso de optimización de descenso por gradiente y el proceso usando el método heurístico.\n"
   ]
  },
  {
   "cell_type": "markdown",
   "metadata": {
    "id": "xPMsth_gp8uy"
   },
   "source": [
    "### Funciones mencionadas"
   ]
  },
  {
   "cell_type": "code",
   "execution_count": 10,
   "metadata": {
    "id": "kRiHXSs6pjnE"
   },
   "outputs": [],
   "source": [
    "# Notebook\n",
    "import numpy as np\n",
    "import numpy as np\n",
    "import matplotlib.pyplot as plt\n",
    "from mpl_toolkits.mplot3d import Axes3D\n",
    "\n",
    "# .py\n",
    "from scipy.optimize import minimize\n",
    "from scipy.optimize import differential_evolution, minimize, dual_annealing\n",
    "from scipy.optimize import basinhopping, shgo\n",
    "from matplotlib.animation import FuncAnimation"
   ]
  },
  {
   "cell_type": "markdown",
   "metadata": {
    "id": "PWB_ifA1p7xT"
   },
   "source": [
    "### Punto 1.\n",
    "Se escogen las funciones:\n",
    "- Rosenbrock\n",
    "- Rastrigin"
   ]
  },
  {
   "cell_type": "code",
   "execution_count": 11,
   "metadata": {},
   "outputs": [],
   "source": [
    "# Parte 1: optimización numérica\n",
    "\n",
    "# 1. Escoja dos funciones de prueba\n",
    "\n",
    "# Seleccionamos Función de Rosenbrock y Función de Rastrigin y las definimos\n",
    "\n",
    "def rosenbrock(x):\n",
    "    return sum(100.0 * (x[1:] - x[:-1]**2)**2 + (1 - x[:-1])**2)\n",
    "\n",
    "def rastrigin(x):\n",
    "    return 10 * len(x) + sum(x**2 - 10 * np.cos(2 * np.pi * x))"
   ]
  },
  {
   "cell_type": "markdown",
   "metadata": {},
   "source": [
    "### Función de Rosenbrock"
   ]
  },
  {
   "cell_type": "code",
   "execution_count": 12,
   "metadata": {},
   "outputs": [
    {
     "ename": "TypeError",
     "evalue": "unsupported operand type(s) for ** or pow(): 'list' and 'int'",
     "output_type": "error",
     "traceback": [
      "\u001B[1;31m---------------------------------------------------------------------------\u001B[0m",
      "\u001B[1;31mTypeError\u001B[0m                                 Traceback (most recent call last)",
      "Cell \u001B[1;32mIn[12], line 9\u001B[0m\n\u001B[0;32m      7\u001B[0m y \u001B[38;5;241m=\u001B[39m np\u001B[38;5;241m.\u001B[39mlinspace(\u001B[38;5;241m-\u001B[39m\u001B[38;5;241m1\u001B[39m, \u001B[38;5;241m3\u001B[39m, \u001B[38;5;241m400\u001B[39m)\n\u001B[0;32m      8\u001B[0m X, Y \u001B[38;5;241m=\u001B[39m np\u001B[38;5;241m.\u001B[39mmeshgrid(x, y)\n\u001B[1;32m----> 9\u001B[0m Z \u001B[38;5;241m=\u001B[39m \u001B[43mrosenbrock\u001B[49m\u001B[43m(\u001B[49m\u001B[43m[\u001B[49m\u001B[43mX\u001B[49m\u001B[43m,\u001B[49m\u001B[43m \u001B[49m\u001B[43mY\u001B[49m\u001B[43m]\u001B[49m\u001B[43m)\u001B[49m\n\u001B[0;32m     11\u001B[0m \u001B[38;5;66;03m# Graficar en 2D\u001B[39;00m\n\u001B[0;32m     12\u001B[0m plt\u001B[38;5;241m.\u001B[39mfigure(figsize\u001B[38;5;241m=\u001B[39m(\u001B[38;5;241m10\u001B[39m, \u001B[38;5;241m5\u001B[39m))\n",
      "Cell \u001B[1;32mIn[11], line 8\u001B[0m, in \u001B[0;36mrosenbrock\u001B[1;34m(x)\u001B[0m\n\u001B[0;32m      7\u001B[0m \u001B[38;5;28;01mdef\u001B[39;00m \u001B[38;5;21mrosenbrock\u001B[39m(x):\n\u001B[1;32m----> 8\u001B[0m     \u001B[38;5;28;01mreturn\u001B[39;00m \u001B[38;5;28msum\u001B[39m(\u001B[38;5;241m100.0\u001B[39m \u001B[38;5;241m*\u001B[39m (x[\u001B[38;5;241m1\u001B[39m:] \u001B[38;5;241m-\u001B[39m \u001B[43mx\u001B[49m\u001B[43m[\u001B[49m\u001B[43m:\u001B[49m\u001B[38;5;241;43m-\u001B[39;49m\u001B[38;5;241;43m1\u001B[39;49m\u001B[43m]\u001B[49m\u001B[38;5;241;43m*\u001B[39;49m\u001B[38;5;241;43m*\u001B[39;49m\u001B[38;5;241;43m2\u001B[39;49m)\u001B[38;5;241m*\u001B[39m\u001B[38;5;241m*\u001B[39m\u001B[38;5;241m2\u001B[39m \u001B[38;5;241m+\u001B[39m (\u001B[38;5;241m1\u001B[39m \u001B[38;5;241m-\u001B[39m x[:\u001B[38;5;241m-\u001B[39m\u001B[38;5;241m1\u001B[39m])\u001B[38;5;241m*\u001B[39m\u001B[38;5;241m*\u001B[39m\u001B[38;5;241m2\u001B[39m)\n",
      "\u001B[1;31mTypeError\u001B[0m: unsupported operand type(s) for ** or pow(): 'list' and 'int'"
     ]
    }
   ],
   "source": [
    "\n",
    "\n",
    "# Generar datos para graficar en 2D\n",
    "x = np.linspace(-2, 2, 400)\n",
    "y = np.linspace(-1, 3, 400)\n",
    "X, Y = np.meshgrid(x, y)\n",
    "Z = rosenbrock([X, Y])\n",
    "\n",
    "# Graficar en 2D\n",
    "plt.figure(figsize=(10, 5))\n",
    "plt.contour(X, Y, Z, levels=np.logspace(-1, 3, 10), cmap='viridis')\n",
    "plt.xlabel('x')\n",
    "plt.ylabel('y')\n",
    "plt.title('Función de Rosenbrock en 2D')\n",
    "plt.colorbar(label='log(Escala)')\n",
    "plt.show()\n",
    "\n",
    "# Generar datos para graficar en 3D\n",
    "x = np.linspace(-2, 2, 100)\n",
    "y = np.linspace(-1, 3, 100)\n",
    "X, Y = np.meshgrid(x, y)\n",
    "Z = rosenbrock([X, Y])\n",
    "\n",
    "# Graficar en 3D\n",
    "fig = plt.figure(figsize=(10, 5))\n",
    "ax = fig.add_subplot(111, projection='3d')\n",
    "ax.plot_surface(X, Y, Z, cmap='viridis')\n",
    "ax.set_xlabel('x')\n",
    "ax.set_ylabel('y')\n",
    "ax.set_zlabel('z')\n",
    "ax.set_title('Función de Rosenbrock en 3D')\n",
    "plt.show()\n"
   ]
  },
  {
   "cell_type": "markdown",
   "metadata": {
    "id": "kGL_eN4mqXdd"
   },
   "source": [
    "### Punto 2.\n",
    "Optimice las funciones en dos y tres dimensiones usando un método de descenso por gradiente con condición inicial aleatoria"
   ]
  },
  {
   "cell_type": "code",
   "execution_count": null,
   "metadata": {
    "id": "X2q5lctzq3DT"
   },
   "outputs": [],
   "source": [
    "# Definimos el metodo\n",
    "\n",
    "# Método de descenso por gradiente\n",
    "def gradient_descent(func, dim):\n",
    "    x0 = np.random.rand(dim)\n",
    "    result = minimize(func, x0, method='L-BFGS-B')\n",
    "    return result.x, result.fun\n",
    "\n",
    "# Optimización en 2 dimensiones\n",
    "\n",
    "dim_2 = 2\n",
    "\n",
    "rosenbrock_gd_2 = gradient_descent(rosenbrock, dim_2)\n",
    "rastrigin_gd_2 = gradient_descent(rastrigin, dim_2)\n",
    "\n",
    "# Optimización en 3 dimensiones\n",
    "\n",
    "dim_3 = 3\n",
    "\n",
    "rosenbrock_gd_3 = gradient_descent(rosenbrock, dim_3)\n",
    "rastrigin_gd_3 = gradient_descent(rastrigin, dim_3)"
   ]
  },
  {
   "cell_type": "markdown",
   "metadata": {
    "id": "mYdDyi8rq9Zc"
   },
   "source": [
    "### Punto 3.\n",
    "Optimice las funciones en dos y tres dimensiones usando: algoritmos evolutivos, optimización de partículas y evolución diferencial"
   ]
  },
  {
   "cell_type": "code",
   "execution_count": null,
   "outputs": [],
   "source": [
    "# Definimos los metodos\n",
    "\n",
    "# Algoritmos evolutivos\n",
    "def evolutionary_algorithm(func, dim):\n",
    "    bounds = [(0, 1)] * dim\n",
    "    result = differential_evolution(func, bounds)\n",
    "    return result.x, result.fun\n",
    "\n",
    "# Optimización de partículas\n",
    "def particle_optimization(func, dim):\n",
    "    bounds = [(0, 1)] * dim\n",
    "    result = basinhopping(func, np.random.rand(dim), niter=100, minimizer_kwargs={\"bounds\": bounds})\n",
    "    return result.x, result.fun\n",
    "\n",
    "# Evolución diferencial\n",
    "def differential_evolution_optimization(func, dim):\n",
    "    bounds = [(0, 1)] * dim\n",
    "    result = differential_evolution(func, bounds)\n",
    "    return result.x, result.fun\n"
   ],
   "metadata": {
    "collapsed": false
   }
  },
  {
   "cell_type": "code",
   "execution_count": null,
   "outputs": [],
   "source": [
    "# Optimización en 2 dimensiones\n",
    "\n",
    "dim_2 = 2\n",
    "\n",
    "rosenbrock_ea_2 = evolutionary_algorithm(rosenbrock, dim_2)\n",
    "rastrigin_ea_2 = evolutionary_algorithm(rastrigin, dim_2)\n",
    "\n",
    "rosenbrock_po_2 = particle_optimization(rosenbrock, dim_2)\n",
    "rastrigin_po_2 = particle_optimization(rastrigin, dim_2)\n",
    "\n",
    "rosenbrock_de_2 = differential_evolution_optimization(rosenbrock, dim_2)\n",
    "rastrigin_de_2 = differential_evolution_optimization(rastrigin, dim_2)\n",
    "\n",
    "\n",
    "# Optimización en 3 dimensiones\n",
    "\n",
    "dim_3 = 3\n",
    "\n",
    "rosenbrock_ea_3 = evolutionary_algorithm(rosenbrock, dim_3)\n",
    "rastrigin_ea_3 = evolutionary_algorithm(rastrigin, dim_3)\n",
    "\n",
    "rosenbrock_po_3 = particle_optimization(rosenbrock, dim_3)\n",
    "rastrigin_po_3 = particle_optimization(rastrigin, dim_3)\n",
    "\n",
    "rosenbrock_de_3 = differential_evolution_optimization(rosenbrock, dim_3)\n",
    "rastrigin_de_3 = differential_evolution_optimization(rastrigin, dim_3)\n"
   ],
   "metadata": {
    "collapsed": false
   }
  },
  {
   "cell_type": "code",
   "execution_count": null,
   "outputs": [],
   "source": [
    "# Imprimimos resultados\n",
    "\n",
    "print(\"\\n\",\"Resultados en 2 dimenciones\",\"\\n\")\n",
    "\n",
    "print(\"Rosenbrock - Gradiente Descendente (2D):\", rosenbrock_gd_2)\n",
    "print(\"Rastrigin - Gradiente Descendente (2D):\", rastrigin_gd_2)\n",
    "\n",
    "print(\"Rosenbrock - Algoritmo Evolutivo (2D):\", rosenbrock_ea_2)\n",
    "print(\"Rastrigin - Algoritmo Evolutivo (2D):\", rastrigin_ea_2)\n",
    "\n",
    "print(\"Rosenbrock - Optimización de Partículas (2D):\", rosenbrock_po_2)\n",
    "print(\"Rastrigin - Optimización de Partículas (2D):\", rastrigin_po_2)\n",
    "\n",
    "print(\"Rosenbrock - Evolución Diferencial (2D):\", rosenbrock_de_2)\n",
    "print(\"Rastrigin - Evolución Diferencial (2D):\", rastrigin_de_2)\n",
    "\n",
    "print(\"\\n\",\"Resultados en 3 dimenciones\",\"\\n\")\n",
    "\n",
    "print(\"Rosenbrock - Gradiente Descendente (3D):\", rosenbrock_gd_3)\n",
    "print(\"Rastrigin - Gradiente Descendente (3D):\", rastrigin_gd_3)\n",
    "\n",
    "print(\"Rosenbrock - Algoritmo Evolutivo (3D):\", rosenbrock_ea_3)\n",
    "print(\"Rastrigin - Algoritmo Evolutivo (3D):\", rastrigin_ea_3)\n",
    "\n",
    "print(\"Rosenbrock - Optimización de Partículas (3D):\", rosenbrock_po_3)\n",
    "print(\"Rastrigin - Optimización de Partículas (3D):\", rastrigin_po_3)\n",
    "\n",
    "print(\"Rosenbrock - Evolución Diferencial (3D):\", rosenbrock_de_3)\n",
    "print(\"Rastrigin - Evolución Diferencial (3D):\", rastrigin_de_3)\n"
   ],
   "metadata": {
    "collapsed": false
   }
  },
  {
   "cell_type": "markdown",
   "metadata": {
    "id": "d6bdRZsPrEEz"
   },
   "source": [
    "### Punto 4.\n",
    "Represente con un gif animado o un video el proceso de optimización de descenso por gradiente y el proceso usando el método heurístico."
   ]
  },
  {
   "cell_type": "code",
   "execution_count": null,
   "outputs": [],
   "source": [
    "# Función de prueba (Rosenbrock)\n",
    "def rosenbrock(x):\n",
    "    return sum(100.0 * (x[1:] - x[:-1]**2)**2 + (1 - x[:-1])**2)\n",
    "\n",
    "# Gradiente de la función de prueba (Rosenbrock)\n",
    "def rosenbrock_gradient(x):\n",
    "    gradient = np.zeros_like(x)\n",
    "    gradient[0] = -400.0 * x[0] * (x[1] - x[0]**2) - 2.0 * (1 - x[0])\n",
    "    gradient[1:-1] = 200.0 * (x[1:-1] - x[:-2]**2) - 400.0 * x[1:-1] * (x[2:] - x[1:-1]**2) - 2.0 * (1 - x[1:-1])\n",
    "    gradient[-1] = 200.0 * (x[-1] - x[-2]**2)\n",
    "    return gradient\n",
    "\n",
    "# Métodos heurísticos\n",
    "def evolutionary_algorithm(func, dim):\n",
    "    bounds = [(0, 1)] * dim\n",
    "    result = differential_evolution(func, bounds)\n",
    "    return result.x, result.fun\n",
    "\n",
    "def particle_optimization(func, dim):\n",
    "    bounds = [(0, 1)] * dim\n",
    "    result = basinhopping(func, np.random.rand(dim), niter=100, minimizer_kwargs={\"bounds\": bounds})\n",
    "    return result.x, result.fun\n",
    "\n",
    "def differential_evolution_optimization(func, dim):\n",
    "    bounds = [(0, 1)] * dim\n",
    "    result = differential_evolution(func, bounds)\n",
    "    return result.x, result.fun\n"
   ],
   "metadata": {
    "collapsed": false
   }
  },
  {
   "cell_type": "code",
   "execution_count": null,
   "outputs": [],
   "source": [
    "# Inicialización de datos\n",
    "x_range = np.linspace(-2, 2, 400)\n",
    "y_range = np.linspace(-1, 3, 400)\n",
    "X, Y = np.meshgrid(x_range, y_range)\n",
    "Z = rosenbrock(np.array([X, Y]))\n",
    "\n",
    "# Método de descenso por gradiente\n",
    "def gradient_descent_animation():\n",
    "    x0 = np.array([-1.5, 2.0])  # Condición inicial\n",
    "    iterations = [x0]\n",
    "\n",
    "    def update(frame):\n",
    "        nonlocal x0\n",
    "        gradient = rosenbrock_gradient(x0)\n",
    "        x0 = x0 - 0.01 * gradient  # Tasa de aprendizaje\n",
    "        iterations.append(x0.copy())\n",
    "        ax.clear()\n",
    "        ax.contour(X, Y, Z, levels=np.logspace(0, 5, 35), cmap=\"viridis\")\n",
    "        ax.plot([point[0] for point in iterations], [point[1] for point in iterations], marker='o', color='red')\n",
    "\n",
    "# Método heurístico (Differential Evolution)\n",
    "def differential_evolution_animation():\n",
    "    result = differential_evolution(rosenbrock, bounds=[(-2, 2), (-1, 3)])\n",
    "    iterations = [result.x]\n",
    "\n",
    "    def update(frame):\n",
    "        nonlocal iterations\n",
    "        ax.clear()\n",
    "        ax.contour(X, Y, Z, levels=np.logspace(0, 5, 35), cmap=\"viridis\")\n",
    "        ax.plot([point[0] for point in iterations], [point[1] for point in iterations], marker='o', color='blue')\n",
    "\n",
    "# Método heurístico (Algoritmos Evolutivos)\n",
    "def evolutionary_algorithm_animation():\n",
    "    bounds = [(0, 1), (0, 1)]\n",
    "    result = differential_evolution(rosenbrock, bounds=bounds)\n",
    "    iterations = [result.x]\n",
    "\n",
    "    def update(frame):\n",
    "        nonlocal iterations\n",
    "        ax.clear()\n",
    "        ax.contour(X, Y, Z, levels=np.logspace(0, 5, 35), cmap=\"viridis\")\n",
    "        ax.plot([point[0] for point in iterations], [point[1] for point in iterations], marker='o', color='green')\n",
    "\n",
    "# Método heurístico (Optimización de Partículas)\n",
    "def particle_optimization_animation():\n",
    "    bounds = [(0, 1), (0, 1)]\n",
    "    result = basinhopping(rosenbrock, np.random.rand(2), niter=100, minimizer_kwargs={\"bounds\": bounds})\n",
    "    iterations = [result.x]\n",
    "\n",
    "    def update(frame):\n",
    "        nonlocal iterations\n",
    "        ax.clear()\n",
    "        ax.contour(X, Y, Z, levels=np.logspace(0, 5, 35), cmap=\"viridis\")\n",
    "        ax.plot([point[0] for point in iterations], [point[1] for point in iterations], marker='o', color='purple')\n"
   ],
   "metadata": {
    "collapsed": false
   }
  },
  {
   "cell_type": "code",
   "execution_count": null,
   "outputs": [],
   "source": [
    "# Crear la animación combinada\n",
    "fig, ax = plt.subplots()\n",
    "ax.contour(X, Y, Z, levels=np.logspace(0, 5, 35), cmap=\"viridis\")\n",
    "\n",
    "# Animación de descenso por gradiente\n",
    "gradient_descent_animation()\n",
    "\n",
    "# Animación de evolución diferencial\n",
    "differential_evolution_animation()\n",
    "\n",
    "# Animación de algoritmos evolutivos\n",
    "evolutionary_algorithm_animation()\n",
    "\n",
    "# Animación de optimización de partículas\n",
    "particle_optimization_animation()\n",
    "\n",
    "plt.show()\n",
    "\n",
    "\n",
    "# Discuta ¿Qué aportaron los métodos de descenso por gradiente y qué aportaron los métodos heurísticos? \n",
    "# Para responder a esta pregunta considere el valor final de la función objetivo y el número de evaluaciones \n",
    "# de la función objetivo. Para responder a esta pregunta es posible que se requiera hacer varias corridas de los algoritmos.\n"
   ],
   "metadata": {
    "collapsed": false
   }
  },
  {
   "cell_type": "markdown",
   "metadata": {
    "id": "ZlSshFpkqlw0"
   },
   "source": [
    "## Parte 2: optimización combinatoria\n",
    "\n"
   ]
  },
  {
   "cell_type": "markdown",
   "metadata": {},
   "source": [
    "Un vendedor debe hacer un recorrido por las siguientes ciudades de Colombia en su carro (no necesariamente en este orden):\n",
    "- Palmira\n",
    "- Pasto\n",
    "- Tuluá\n",
    "- Bogota\n",
    "- Pereira\n",
    "- Armenia\n",
    "- Manizales\n",
    "- Valledupar\n",
    "- Montería\n",
    "- Soledad\n",
    "- Cartagena\n",
    "- Barranquilla\n",
    "- Medellín\n",
    "- Bucaramanga\n",
    "- Cúcuta\n",
    "\n",
    "Utilice colonias de hormigas y algoritmos genéticos para encontrar el orden óptimo. El costo de desplazamiento entre ciudades es la suma del valor de la hora del vendedor (es un parámetro que debe estudiarse), el costo de los peajes y el costo del combustible. Cada equipo debe definir en qué carro hace el recorrido el vendedor y de allí extraer el costo del combustible.\n",
    "\n",
    "Adicionalmente represente con un gif animado o un video cómo se comporta la mejor solución usando un gráfico del recorrido en el mapa de Colombia"
   ]
  },
  {
   "cell_type": "code",
   "execution_count": null,
   "outputs": [],
   "source": [
    "import numpy as np\n",
    "import matplotlib.pyplot as plt\n",
    "from scipy.spatial import distance_matrix\n",
    "from itertools import permutations\n",
    "from matplotlib.animation import FuncAnimation\n"
   ],
   "metadata": {
    "collapsed": false
   }
  },
  {
   "cell_type": "code",
   "execution_count": null,
   "outputs": [],
   "source": [
    "# Definimos las ciudades y sus coordenadas en el mapa TEMPORAL!!!!!\n",
    "cities = {\n",
    "    'Palmira': (3, 2),\n",
    "    'Pasto': (4, 5),\n",
    "    'Tuluá': (1, 4),\n",
    "    'Bogota': (2, 6),\n",
    "    'Pereira': (3, 3),\n",
    "    'Armenia': (2, 3),\n",
    "    'Manizales': (1, 5),\n",
    "    'Valledupar': (6, 1),\n",
    "    'Montería': (5, 2),\n",
    "    'Soledad': (7, 4),\n",
    "    'Cartagena': (6, 4),\n",
    "    'Barranquilla': (8, 5),\n",
    "    'Medellín': (1, 6),\n",
    "    'Bucaramanga': (2, 8),\n",
    "    'Cúcuta': (3, 9)\n",
    "}\n",
    "\n",
    "# Calculamos la matriz de distancias entre ciudades\n",
    "dist_matrix = distance_matrix(list(cities.values()), list(cities.values()))\n"
   ],
   "metadata": {
    "collapsed": false
   }
  },
  {
   "cell_type": "code",
   "execution_count": null,
   "outputs": [],
   "source": [
    "# Algoritmo genético que encuentra la mejor ruta\n",
    "def genetic_algorithm(num_generations, population_size, crossover_rate, mutation_rate):\n",
    "    num_cities = len(cities)\n",
    "    population = np.array([np.random.permutation(num_cities) for _ in range(population_size)])\n",
    "\n",
    "    for generation in range(num_generations):\n",
    "        fitness = np.array([calculate_fitness(route) for route in population])\n",
    "        sorted_indices = np.argsort(fitness)\n",
    "        population = population[sorted_indices]\n",
    "\n",
    "        # Seleccionar padres\n",
    "        parents = population[:int(population_size * crossover_rate)]\n",
    "\n",
    "        # Cruzar padres para crear hijos\n",
    "        offspring = crossover(parents, population_size)\n",
    "\n",
    "        # Aplicar mutación\n",
    "        mutate(offspring, mutation_rate)\n",
    "\n",
    "        # Reemplazar población antigua con la nueva generación\n",
    "        population = np.vstack((parents, offspring))\n",
    "\n",
    "    best_route = population[0]\n",
    "    return best_route\n",
    "\n",
    "# Función de costo !Tenemos que ajustar según los costos reales!!!!!!\n",
    "def calculate_fitness(route):\n",
    "    total_distance = sum(dist_matrix[route[i], route[i + 1]] for i in range(len(route) - 1))\n",
    "    return total_distance\n",
    "\n",
    "# Operador de cruce (crossover)\n",
    "def crossover(parents, population_size):\n",
    "    num_parents = len(parents)\n",
    "    num_offspring = population_size - num_parents\n",
    "    offspring = np.empty((num_offspring, len(parents[0])), dtype=int)\n",
    "\n",
    "    for i in range(num_offspring):\n",
    "        parent1, parent2 = np.random.choice(num_parents, size=2, replace=False)\n",
    "        crossover_point = np.random.randint(1, len(parents[0]) - 1)\n",
    "        offspring[i, :crossover_point] = parents[parent1, :crossover_point]\n",
    "        offspring[i, crossover_point:] = [city for city in parents[parent2] if city not in offspring[i, :crossover_point]]\n",
    "\n",
    "    return offspring\n",
    "\n",
    "# Operador de mutación\n",
    "def mutate(offspring, mutation_rate):\n",
    "    for child in offspring:\n",
    "        if np.random.rand() < mutation_rate:\n",
    "            mutation_indices = np.random.choice(len(child), size=2, replace=False)\n",
    "            child[mutation_indices[0]], child[mutation_indices[1]] = child[mutation_indices[1]], child[mutation_indices[0]]\n"
   ],
   "metadata": {
    "collapsed": false
   }
  },
  {
   "cell_type": "code",
   "execution_count": null,
   "outputs": [],
   "source": [
    "# Función para visualizar el recorrido en el mapa de Colombia\n",
    "def plot_route(route):\n",
    "    x = [list(cities.values())[city][0] for city in route]\n",
    "    y = [list(cities.values())[city][1] for city in route]\n",
    "\n",
    "    fig, ax = plt.subplots()\n",
    "    ax.plot(x, y, marker='o', linestyle='-', color='b')\n",
    "    ax.plot(x[0], y[0], marker='o', color='r', label='Inicio/Final')\n",
    "    ax.legend()\n",
    "    ax.set_title('Mejor Ruta')\n",
    "    plt.show()\n",
    "\n",
    "# Animación del proceso de optimización\n",
    "def animate_optimization(best_routes):\n",
    "    fig, ax = plt.subplots()\n",
    "    plt.scatter(*zip(*list(cities.values())), color='red')  # Marcadores de ciudades\n",
    "    line, = ax.plot([], [], linestyle='-', color='blue', marker='o')\n",
    "\n",
    "    def update(frame):\n",
    "        route = best_routes[frame]\n",
    "        x = [cities[city][0] for city in route]\n",
    "        y = [cities[city][1] for city in route]\n",
    "        line.set_data(x, y)\n",
    "        return line,\n",
    "\n",
    "    ani = FuncAnimation(fig, update, frames=len(best_routes), interval=500, blit=True)\n",
    "    plt.show()\n"
   ],
   "metadata": {
    "collapsed": false
   }
  },
  {
   "cell_type": "code",
   "execution_count": null,
   "outputs": [],
   "source": [
    "# Parámetros del algoritmo genético\n",
    "num_generations = 100\n",
    "population_size = 100\n",
    "crossover_rate = 0.6\n",
    "mutation_rate = 0.02\n",
    "\n",
    "# Ejecutar el algoritmo genético\n",
    "best_route = genetic_algorithm(num_generations, population_size, crossover_rate, mutation_rate)\n",
    "\n",
    "# Visualizar la mejor ruta\n",
    "plot_route(best_route)\n",
    "\n",
    "# Visualizar animación del proceso de optimización\n",
    "all_routes = list(permutations(cities.keys()))\n",
    "best_routes = [genetic_algorithm(1, 100, 0.6, 0.02)[0] for _ in range(50)]  # 50 generaciones para la animación\n",
    "animate_optimization(best_routes)\n"
   ],
   "metadata": {
    "collapsed": false
   }
  }
 ],
 "metadata": {
  "colab": {
   "provenance": [],
   "toc_visible": true
  },
  "kernelspec": {
   "display_name": "Python 3",
   "name": "python3"
  },
  "language_info": {
   "codemirror_mode": {
    "name": "ipython",
    "version": 3
   },
   "file_extension": ".py",
   "mimetype": "text/x-python",
   "name": "python",
   "nbconvert_exporter": "python",
   "pygments_lexer": "ipython3",
   "version": "3.8.6"
  }
 },
 "nbformat": 4,
 "nbformat_minor": 0
}
