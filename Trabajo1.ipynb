{
  "cells": [
    {
      "cell_type": "markdown",
      "metadata": {},
      "source": [
        "# Optimización Heuristica\n",
        "\n",
        "## Integrantes\n",
        "- Diego Fernando Chávez Henao\n",
        "- Jakelin Daiana Correa Palacio\n",
        "- Andrés Felipe Lema García\n",
        "- Luis Felipe Moreno Chamorro"
      ]
    },
    {
      "cell_type": "code",
      "execution_count": null,
      "metadata": {},
      "outputs": [
        {
          "name": "stdout",
          "output_type": "stream",
          "text": [
            "Requirement already satisfied: matplotlib in c:\\users\\jakel\\envs\\rnya\\lib\\site-packages (3.7.5)\n",
            "Requirement already satisfied: numpy in c:\\users\\jakel\\envs\\rnya\\lib\\site-packages (1.24.4)\n",
            "Requirement already satisfied: fonttools>=4.22.0 in c:\\users\\jakel\\envs\\rnya\\lib\\site-packages (from matplotlib) (4.49.0)\n",
            "Requirement already satisfied: pyparsing>=2.3.1 in c:\\users\\jakel\\envs\\rnya\\lib\\site-packages (from matplotlib) (3.1.1)\n",
            "Requirement already satisfied: contourpy>=1.0.1 in c:\\users\\jakel\\envs\\rnya\\lib\\site-packages (from matplotlib) (1.1.1)\n",
            "Requirement already satisfied: importlib-resources>=3.2.0; python_version < \"3.10\" in c:\\users\\jakel\\envs\\rnya\\lib\\site-packages (from matplotlib) (6.1.2)\n",
            "Requirement already satisfied: pillow>=6.2.0 in c:\\users\\jakel\\envs\\rnya\\lib\\site-packages (from matplotlib) (10.2.0)\n",
            "Requirement already satisfied: cycler>=0.10 in c:\\users\\jakel\\envs\\rnya\\lib\\site-packages (from matplotlib) (0.12.1)\n",
            "Requirement already satisfied: kiwisolver>=1.0.1 in c:\\users\\jakel\\envs\\rnya\\lib\\site-packages (from matplotlib) (1.4.5)\n",
            "Requirement already satisfied: python-dateutil>=2.7 in c:\\users\\jakel\\envs\\rnya\\lib\\site-packages (from matplotlib) (2.9.0.post0)\n",
            "Requirement already satisfied: packaging>=20.0 in c:\\users\\jakel\\envs\\rnya\\lib\\site-packages (from matplotlib) (23.2)\n",
            "Requirement already satisfied: zipp>=3.1.0; python_version < \"3.10\" in c:\\users\\jakel\\envs\\rnya\\lib\\site-packages (from importlib-resources>=3.2.0; python_version < \"3.10\"->matplotlib) (3.17.0)\n",
            "Requirement already satisfied: six>=1.5 in c:\\users\\jakel\\envs\\rnya\\lib\\site-packages (from python-dateutil>=2.7->matplotlib) (1.16.0)\n",
            "Note: you may need to restart the kernel to use updated packages.\n"
          ]
        },
        {
          "name": "stderr",
          "output_type": "stream",
          "text": [
            "WARNING: You are using pip version 20.2.1; however, version 24.0 is available.\n",
            "You should consider upgrading via the 'c:\\Users\\jakel\\envs\\RNYA\\Scripts\\python.exe -m pip install --upgrade pip' command.\n"
          ]
        }
      ],
      "source": [
        "pip install matplotlib numpy"
      ]
    },
    {
      "cell_type": "markdown",
      "metadata": {
        "id": "VBZhfnv_p1a7"
      },
      "source": [
        "## Parte 1: optimización numérica"
      ]
    },
    {
      "cell_type": "markdown",
      "metadata": {
        "id": "NGf0mMp9pyyb"
      },
      "source": [
        "1. Escoja dos funciones de prueba\n",
        "2. Optimice las funciones en dos y tres dimensiones usando un método de descenso por gradiente con condición inicial aleatoria\n",
        "3. Optimice las funciones en dos y tres dimensiones usando: algoritmos evolutivos, optimización de partículas y evolución diferencial\n",
        "4. Represente con un gif animado o un video el proceso de optimización de descenso por gradiente y el proceso usando el método heurístico.\n"
      ]
    },
    {
      "cell_type": "markdown",
      "metadata": {
        "id": "xPMsth_gp8uy"
      },
      "source": [
        "### Funciones mencionadas"
      ]
    },
    {
      "cell_type": "code",
      "execution_count": 10,
      "metadata": {
        "id": "kRiHXSs6pjnE"
      },
      "outputs": [],
      "source": [
        "import numpy as np\n",
        "import numpy as np\n",
        "import matplotlib.pyplot as plt\n",
        "from mpl_toolkits.mplot3d import Axes3D\n",
        "\n",
        "# Función de Rosenbrock\n",
        "def rosenbrock(x, y):\n",
        "    return (1 - x)**2 + 100 * (y - x**2)**2\n",
        "\n",
        "# Función de Rastrigin\n",
        "def rastrigin(*args):\n",
        "    A = 10\n",
        "    return A * len(args) + np.sum([(x**2 - A * np.cos(2 * np.pi * x)) for x in args])\n",
        "\n",
        "# Función de Schwefel\n",
        "def schwefel(*args):\n",
        "    return -np.sum([x * np.sin(np.sqrt(np.abs(x))) for x in args])\n",
        "\n",
        "# Función de Griewank\n",
        "def griewank(*args):\n",
        "    return 1 + (1/4000) * np.sum([x**2 for x in args]) - np.prod([np.cos(x / np.sqrt(i+1)) for i, x in enumerate(args)])\n",
        "\n",
        "# Función de Goldstein-Price\n",
        "def goldstein_price(x, y):\n",
        "    return ((1 + (x + y + 1)**2 * (19 - 14*x + 3*x**2 - 14*y + 6*x*y + 3*y**2)) *\n",
        "            (30 + (2*x - 3*y)**2 * (18 - 32*x + 12*x**2 + 48*y - 36*x*y + 27*y**2)))\n",
        "\n",
        "# Función de las seis jorobas de camello (no proporcionada)\n"
      ]
    },
    {
      "cell_type": "markdown",
      "metadata": {
        "id": "PWB_ifA1p7xT"
      },
      "source": [
        "### Punto 1.\n",
        "Se escogen las funciones:\n",
        "- Rosenbrock\n",
        "- Rastrigin"
      ]
    },
    {
      "cell_type": "code",
      "execution_count": 11,
      "metadata": {},
      "outputs": [],
      "source": [
        "# Parte 1: optimización numérica\n",
        "\n",
        "# 1. Escoja dos funciones de prueba\n",
        "\n",
        "# Seleccionamos Función de Rosenbrock y Función de Rastrigin y las definimos\n",
        "\n",
        "def rosenbrock(x):\n",
        "    return sum(100.0 * (x[1:] - x[:-1]**2)**2 + (1 - x[:-1])**2)\n",
        "\n",
        "def rastrigin(x):\n",
        "    return 10 * len(x) + sum(x**2 - 10 * np.cos(2 * np.pi * x))"
      ]
    },
    {
      "cell_type": "markdown",
      "metadata": {},
      "source": [
        "### Función de Rosenbrock"
      ]
    },
    {
      "cell_type": "code",
      "execution_count": 12,
      "metadata": {},
      "outputs": [
        {
          "ename": "TypeError",
          "evalue": "unsupported operand type(s) for ** or pow(): 'list' and 'int'",
          "output_type": "error",
          "traceback": [
            "\u001b[1;31m---------------------------------------------------------------------------\u001b[0m",
            "\u001b[1;31mTypeError\u001b[0m                                 Traceback (most recent call last)",
            "Cell \u001b[1;32mIn[12], line 9\u001b[0m\n\u001b[0;32m      7\u001b[0m y \u001b[38;5;241m=\u001b[39m np\u001b[38;5;241m.\u001b[39mlinspace(\u001b[38;5;241m-\u001b[39m\u001b[38;5;241m1\u001b[39m, \u001b[38;5;241m3\u001b[39m, \u001b[38;5;241m400\u001b[39m)\n\u001b[0;32m      8\u001b[0m X, Y \u001b[38;5;241m=\u001b[39m np\u001b[38;5;241m.\u001b[39mmeshgrid(x, y)\n\u001b[1;32m----> 9\u001b[0m Z \u001b[38;5;241m=\u001b[39m \u001b[43mrosenbrock\u001b[49m\u001b[43m(\u001b[49m\u001b[43m[\u001b[49m\u001b[43mX\u001b[49m\u001b[43m,\u001b[49m\u001b[43m \u001b[49m\u001b[43mY\u001b[49m\u001b[43m]\u001b[49m\u001b[43m)\u001b[49m\n\u001b[0;32m     11\u001b[0m \u001b[38;5;66;03m# Graficar en 2D\u001b[39;00m\n\u001b[0;32m     12\u001b[0m plt\u001b[38;5;241m.\u001b[39mfigure(figsize\u001b[38;5;241m=\u001b[39m(\u001b[38;5;241m10\u001b[39m, \u001b[38;5;241m5\u001b[39m))\n",
            "Cell \u001b[1;32mIn[11], line 8\u001b[0m, in \u001b[0;36mrosenbrock\u001b[1;34m(x)\u001b[0m\n\u001b[0;32m      7\u001b[0m \u001b[38;5;28;01mdef\u001b[39;00m \u001b[38;5;21mrosenbrock\u001b[39m(x):\n\u001b[1;32m----> 8\u001b[0m     \u001b[38;5;28;01mreturn\u001b[39;00m \u001b[38;5;28msum\u001b[39m(\u001b[38;5;241m100.0\u001b[39m \u001b[38;5;241m*\u001b[39m (x[\u001b[38;5;241m1\u001b[39m:] \u001b[38;5;241m-\u001b[39m \u001b[43mx\u001b[49m\u001b[43m[\u001b[49m\u001b[43m:\u001b[49m\u001b[38;5;241;43m-\u001b[39;49m\u001b[38;5;241;43m1\u001b[39;49m\u001b[43m]\u001b[49m\u001b[38;5;241;43m*\u001b[39;49m\u001b[38;5;241;43m*\u001b[39;49m\u001b[38;5;241;43m2\u001b[39;49m)\u001b[38;5;241m*\u001b[39m\u001b[38;5;241m*\u001b[39m\u001b[38;5;241m2\u001b[39m \u001b[38;5;241m+\u001b[39m (\u001b[38;5;241m1\u001b[39m \u001b[38;5;241m-\u001b[39m x[:\u001b[38;5;241m-\u001b[39m\u001b[38;5;241m1\u001b[39m])\u001b[38;5;241m*\u001b[39m\u001b[38;5;241m*\u001b[39m\u001b[38;5;241m2\u001b[39m)\n",
            "\u001b[1;31mTypeError\u001b[0m: unsupported operand type(s) for ** or pow(): 'list' and 'int'"
          ]
        }
      ],
      "source": [
        "\n",
        "\n",
        "# Generar datos para graficar en 2D\n",
        "x = np.linspace(-2, 2, 400)\n",
        "y = np.linspace(-1, 3, 400)\n",
        "X, Y = np.meshgrid(x, y)\n",
        "Z = rosenbrock([X, Y])\n",
        "\n",
        "# Graficar en 2D\n",
        "plt.figure(figsize=(10, 5))\n",
        "plt.contour(X, Y, Z, levels=np.logspace(-1, 3, 10), cmap='viridis')\n",
        "plt.xlabel('x')\n",
        "plt.ylabel('y')\n",
        "plt.title('Función de Rosenbrock en 2D')\n",
        "plt.colorbar(label='log(Escala)')\n",
        "plt.show()\n",
        "\n",
        "# Generar datos para graficar en 3D\n",
        "x = np.linspace(-2, 2, 100)\n",
        "y = np.linspace(-1, 3, 100)\n",
        "X, Y = np.meshgrid(x, y)\n",
        "Z = rosenbrock([X, Y])\n",
        "\n",
        "# Graficar en 3D\n",
        "fig = plt.figure(figsize=(10, 5))\n",
        "ax = fig.add_subplot(111, projection='3d')\n",
        "ax.plot_surface(X, Y, Z, cmap='viridis')\n",
        "ax.set_xlabel('x')\n",
        "ax.set_ylabel('y')\n",
        "ax.set_zlabel('z')\n",
        "ax.set_title('Función de Rosenbrock en 3D')\n",
        "plt.show()\n"
      ]
    },
    {
      "cell_type": "markdown",
      "metadata": {
        "id": "kGL_eN4mqXdd"
      },
      "source": [
        "### Punto 2.\n",
        "Optimice las funciones en dos y tres dimensiones usando un método de descenso por gradiente con condición inicial aleatoria"
      ]
    },
    {
      "cell_type": "code",
      "execution_count": null,
      "metadata": {
        "id": "X2q5lctzq3DT"
      },
      "outputs": [],
      "source": [
        "## PRUEBA (si se quiere se puede cambiar)\n",
        "\n",
        "import scipy.optimize as opt\n",
        "\n",
        "# Descenso por gradiente en dos dimensiones\n",
        "def gradient_descent_2d(func):\n",
        "    initial_guess = np.random.rand(2) * 10\n",
        "    result = opt.minimize(func, initial_guess, method='BFGS')\n",
        "    return result.x, result.fun\n",
        "\n",
        "# Descenso por gradiente en tres dimensiones\n",
        "def gradient_descent_3d(func):\n",
        "    initial_guess = np.random.rand(3) * 10\n",
        "    result = opt.minimize(func, initial_guess, method='BFGS')\n",
        "    return result.x, result.fun\n"
      ]
    },
    {
      "cell_type": "markdown",
      "metadata": {
        "id": "mYdDyi8rq9Zc"
      },
      "source": [
        "### Punto 3.\n",
        "Optimice las funciones en dos y tres dimensiones usando: algoritmos evolutivos, optimización de partículas y evolución diferencial"
      ]
    },
    {
      "cell_type": "markdown",
      "metadata": {
        "id": "d6bdRZsPrEEz"
      },
      "source": [
        "### Punto 4.\n",
        "Represente con un gif animado o un video el proceso de optimización de descenso por gradiente y el proceso usando el método heurístico."
      ]
    },
    {
      "cell_type": "markdown",
      "metadata": {
        "id": "ZlSshFpkqlw0"
      },
      "source": [
        "## Parte 2: optimización combinatoria\n",
        "\n"
      ]
    },
    {
      "cell_type": "markdown",
      "metadata": {},
      "source": [
        "Un vendedor debe hacer un recorrido por las siguientes ciudades de Colombia en su carro (no necesariamente en este orden):\n",
        "- Palmira\n",
        "- Pasto\n",
        "- Tuluá\n",
        "- Bogota\n",
        "- Pereira\n",
        "- Armenia\n",
        "- Manizales\n",
        "- Valledupar\n",
        "- Montería\n",
        "- Soledad\n",
        "- Cartagena\n",
        "- Barranquilla\n",
        "- Medellín\n",
        "- Bucaramanga\n",
        "- Cúcuta\n",
        "\n",
        "Utilice colonias de hormigas y algoritmos genéticos para encontrar el orden óptimo. El costo de desplazamiento entre ciudades es la suma del valor de la hora del vendedor (es un parámetro que debe estudiarse), el costo de los peajes y el costo del combustible. Cada equipo debe definir en qué carro hace el recorrido el vendedor y de allí extraer el costo del combustible.\n",
        "\n",
        "Adicionalmente represente con un gif animado o un video cómo se comporta la mejor solución usando un gráfico del recorrido en el mapa de Colombia"
      ]
    }
  ],
  "metadata": {
    "colab": {
      "provenance": [],
      "toc_visible": true
    },
    "kernelspec": {
      "display_name": "Python 3",
      "name": "python3"
    },
    "language_info": {
      "codemirror_mode": {
        "name": "ipython",
        "version": 3
      },
      "file_extension": ".py",
      "mimetype": "text/x-python",
      "name": "python",
      "nbconvert_exporter": "python",
      "pygments_lexer": "ipython3",
      "version": "3.8.6"
    }
  },
  "nbformat": 4,
  "nbformat_minor": 0
}
